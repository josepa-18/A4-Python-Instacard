{
 "cells": [
  {
   "cell_type": "code",
   "execution_count": 1,
   "id": "43ec0786",
   "metadata": {},
   "outputs": [],
   "source": [
    "# Import libraries\n",
    "import pandas as pd\n",
    "import numpy as np\n",
    "import os"
   ]
  },
  {
   "cell_type": "code",
   "execution_count": 2,
   "id": "66e06103",
   "metadata": {},
   "outputs": [],
   "source": [
    "path = r'C:\\Users\\Josepa Cusidó\\092022 Instacart Basket Analysis'"
   ]
  },
  {
   "cell_type": "code",
   "execution_count": 3,
   "id": "02452cfe",
   "metadata": {},
   "outputs": [],
   "source": [
    "ords_prods_merge = pd.read_pickle(os.path.join(path, '02 Data', 'Prepared Data', 'Orders_and_Products_merged.pkl'))"
   ]
  },
  {
   "cell_type": "code",
   "execution_count": 4,
   "id": "cc8ada39",
   "metadata": {},
   "outputs": [],
   "source": [
    "customers = pd.read_pickle(os.path.join(path, '02 Data', 'Prepared Data', 'Customers_clean.pkl'))"
   ]
  },
  {
   "cell_type": "code",
   "execution_count": 5,
   "id": "b4249f3a",
   "metadata": {},
   "outputs": [
    {
     "data": {
      "text/plain": [
       "(206209, 10)"
      ]
     },
     "execution_count": 5,
     "metadata": {},
     "output_type": "execute_result"
    }
   ],
   "source": [
    "customers.shape"
   ]
  },
  {
   "cell_type": "code",
   "execution_count": 6,
   "id": "fc5413a7",
   "metadata": {},
   "outputs": [],
   "source": [
    "customers = customers.drop_duplicates()"
   ]
  },
  {
   "cell_type": "code",
   "execution_count": 7,
   "id": "d9692362",
   "metadata": {},
   "outputs": [
    {
     "data": {
      "text/plain": [
       "(206209, 10)"
      ]
     },
     "execution_count": 7,
     "metadata": {},
     "output_type": "execute_result"
    }
   ],
   "source": [
    "customers.shape"
   ]
  },
  {
   "cell_type": "code",
   "execution_count": 9,
   "id": "d321bc7c",
   "metadata": {},
   "outputs": [
    {
     "name": "stdout",
     "output_type": "stream",
     "text": [
      "<class 'pandas.core.frame.DataFrame'>\n",
      "Int64Index: 206209 entries, 0 to 206208\n",
      "Data columns (total 10 columns):\n",
      " #   Column        Non-Null Count   Dtype \n",
      "---  ------        --------------   ----- \n",
      " 0   user_id       206209 non-null  int32 \n",
      " 1   First Name    194950 non-null  object\n",
      " 2   Last Name     206209 non-null  object\n",
      " 3   Gender        206209 non-null  object\n",
      " 4   US State      206209 non-null  object\n",
      " 5   Age           206209 non-null  int32 \n",
      " 6   date_joined   206209 non-null  object\n",
      " 7   n_dependants  206209 non-null  int64 \n",
      " 8   fam_status    206209 non-null  object\n",
      " 9   income        206209 non-null  int32 \n",
      "dtypes: int32(3), int64(1), object(6)\n",
      "memory usage: 14.9+ MB\n"
     ]
    }
   ],
   "source": [
    "customers.info()"
   ]
  },
  {
   "cell_type": "code",
   "execution_count": 10,
   "id": "05047cda",
   "metadata": {},
   "outputs": [],
   "source": [
    "customers['n_dependants']=customers['n_dependants'].astype('int32')"
   ]
  },
  {
   "cell_type": "code",
   "execution_count": 11,
   "id": "e50e8f97",
   "metadata": {},
   "outputs": [],
   "source": [
    "ords_prods_customers_merge = ords_prods_merge.merge(customers, on = 'user_id')"
   ]
  },
  {
   "cell_type": "code",
   "execution_count": 12,
   "id": "ca9693b6",
   "metadata": {},
   "outputs": [],
   "source": [
    "del customers"
   ]
  },
  {
   "cell_type": "code",
   "execution_count": 13,
   "id": "9c9493cc",
   "metadata": {},
   "outputs": [],
   "source": [
    "del ords_prods_merge"
   ]
  },
  {
   "cell_type": "code",
   "execution_count": 14,
   "id": "bf73effb",
   "metadata": {},
   "outputs": [
    {
     "data": {
      "text/plain": [
       "(30328763, 34)"
      ]
     },
     "execution_count": 14,
     "metadata": {},
     "output_type": "execute_result"
    }
   ],
   "source": [
    "ords_prods_customers_merge.shape"
   ]
  },
  {
   "cell_type": "code",
   "execution_count": 15,
   "id": "477175ff",
   "metadata": {},
   "outputs": [],
   "source": [
    "ords_prods_customers_merge.to_pickle(os.path.join(path, '02 Data','Prepared Data', 'Orders_Products_Customers.pkl'))"
   ]
  },
  {
   "cell_type": "code",
   "execution_count": null,
   "id": "80a6c48e",
   "metadata": {},
   "outputs": [],
   "source": []
  }
 ],
 "metadata": {
  "kernelspec": {
   "display_name": "Python 3 (ipykernel)",
   "language": "python",
   "name": "python3"
  },
  "language_info": {
   "codemirror_mode": {
    "name": "ipython",
    "version": 3
   },
   "file_extension": ".py",
   "mimetype": "text/x-python",
   "name": "python",
   "nbconvert_exporter": "python",
   "pygments_lexer": "ipython3",
   "version": "3.9.7"
  }
 },
 "nbformat": 4,
 "nbformat_minor": 5
}
