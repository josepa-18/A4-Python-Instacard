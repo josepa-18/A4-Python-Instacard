{
 "cells": [
  {
   "cell_type": "markdown",
   "id": "f5c2a171",
   "metadata": {},
   "source": [
    "Part 1\n",
    "2. Addressing PII data\n",
    "3. Regional segmentation of the data"
   ]
  },
  {
   "cell_type": "code",
   "execution_count": null,
   "id": "25a6b5be",
   "metadata": {},
   "outputs": [],
   "source": [
    "# Import libraries\n",
    "import pandas as pd\n",
    "import numpy as np\n",
    "import os"
   ]
  },
  {
   "cell_type": "code",
   "execution_count": 2,
   "id": "66e06103",
   "metadata": {},
   "outputs": [],
   "source": [
    "path = r'C:\\Users\\Josepa Cusidó\\092022 Instacart Basket Analysis'"
   ]
  },
  {
   "cell_type": "code",
   "execution_count": 3,
   "id": "02452cfe",
   "metadata": {},
   "outputs": [],
   "source": [
    "ords_prods_customers = pd.read_pickle(os.path.join(path, '02 Data', 'Prepared Data', 'Orders_Products_Customers.pkl'))"
   ]
  },
  {
   "cell_type": "code",
   "execution_count": 4,
   "id": "7fd76422",
   "metadata": {},
   "outputs": [
    {
     "name": "stdout",
     "output_type": "stream",
     "text": [
      "<class 'pandas.core.frame.DataFrame'>\n",
      "Int64Index: 30328763 entries, 0 to 30328762\n",
      "Data columns (total 30 columns):\n",
      " #   Column                   Dtype  \n",
      "---  ------                   -----  \n",
      " 0   order_id                 int32  \n",
      " 1   user_id                  int32  \n",
      " 2   order_number             int8   \n",
      " 3   orders_day_of_week       int8   \n",
      " 4   order_time               int8   \n",
      " 5   days_since_prior_order   float16\n",
      " 6   product_id               int32  \n",
      " 7   add_to_cart_order        int32  \n",
      " 8   reordered                int32  \n",
      " 9   product_name             object \n",
      " 10  aisle_id                 int32  \n",
      " 11  department_id            int32  \n",
      " 12  prices                   float16\n",
      " 13  price_range_loc          object \n",
      " 14  busiest_days             object \n",
      " 15  busiest_period_of_day    object \n",
      " 16  max_order                int8   \n",
      " 17  loyalty_flag             object \n",
      " 18  mean_prices              float32\n",
      " 19  spending_flag            object \n",
      " 20  median_days_prior_order  float16\n",
      " 21  frecuency_flag           object \n",
      " 22  Gender                   object \n",
      " 23  US State                 object \n",
      " 24  Age                      int32  \n",
      " 25  date_joined              object \n",
      " 26  n_dependants             int32  \n",
      " 27  fam_status               object \n",
      " 28  income                   int32  \n",
      " 29  region                   object \n",
      "dtypes: float16(3), float32(1), int32(10), int8(4), object(12)\n",
      "memory usage: 4.5+ GB\n"
     ]
    }
   ],
   "source": [
    "# Dealing with memory errors\n",
    "ords_prods_customers.info()"
   ]
  },
  {
   "cell_type": "markdown",
   "id": "ae6c2d99",
   "metadata": {},
   "source": [
    "ords_prods_customers['prices']=ords_prods_customers['prices'].astype('float16')\n",
    "ords_prods_customers['product_id']=ords_prods_customers['product_id'].astype('int32')\n",
    "ords_prods_customers['add_to_cart_order']=ords_prods_customers['add_to_cart_order'].astype('int32')\n",
    "ords_prods_customers['reordered']=ords_prods_customers['reordered'].astype('int32')\n",
    "ords_prods_customers['Unnamed: 0']=ords_prods_customers['Unnamed: 0'].astype('int32') \n",
    "ords_prods_customers['mean_prices']=ords_prods_customers['mean_prices'].astype('float32') \n",
    "ords_prods_customers['aisle_id']=ords_prods_customers['aisle_id'].astype('int32')\n",
    "ords_prods_customers['department_id']=ords_prods_customers['department_id'].astype('int32') \n",
    "ords_prods_customers['n_dependants']=ords_prods_customers['n_dependants'].astype('int32')"
   ]
  },
  {
   "cell_type": "markdown",
   "id": "82d5a32b",
   "metadata": {},
   "source": [
    "# 2. Addressing PII data\n",
    "ords_prods_customers = ords_prods_customers.drop(columns = ['First Name', 'Last Name', '_merge', 'Unnamed: 0', 'busiest_day'])"
   ]
  },
  {
   "cell_type": "markdown",
   "id": "7bb9e150",
   "metadata": {},
   "source": [
    "# 3. Regional segmentation of the data"
   ]
  },
  {
   "cell_type": "code",
   "execution_count": 5,
   "id": "1e1a667d",
   "metadata": {},
   "outputs": [],
   "source": [
    "Northeast = ['Maine','New Hampshire','Vermont','Massachusetts','Rhode Island','Connecticut','New York','Pennsylvania','New Jersey']\n",
    "Midwest = ['Wisconsin','Michigan','Illinois','Indiana','Ohio','North Dakota','South Dakota','Nebraska','Kansas','Minnesota','Iowa','Missouri']\n",
    "South = ['Delaware','Maryland','District of Columbia','Virginia','West Virginia','North Carolina','South Carolina','Georgia','Florida','Kentucky','Tennessee','Mississippi','Alabama','Oklahoma','Texas','Arkansas','Louisiana']\n",
    "West = ['Idaho','Montana','Wyoming','Nevada','Utah','Colorado','Arizona','New Mexico','Alaska','Washington','Oregon','California','Hawaii']"
   ]
  },
  {
   "cell_type": "code",
   "execution_count": 6,
   "id": "4350fa0f",
   "metadata": {},
   "outputs": [],
   "source": [
    "ords_prods_customers.loc[ords_prods_customers['US State'].isin(Northeast), 'region']='Northeast'\n",
    "ords_prods_customers.loc[ords_prods_customers['US State'].isin(Midwest), 'region']='Midwest'\n",
    "ords_prods_customers.loc[ords_prods_customers['US State'].isin(South), 'region']='South'\n",
    "ords_prods_customers.loc[ords_prods_customers['US State'].isin(West), 'region']='West'"
   ]
  },
  {
   "cell_type": "code",
   "execution_count": 7,
   "id": "1f914f95",
   "metadata": {},
   "outputs": [
    {
     "data": {
      "text/plain": [
       "South        10099817\n",
       "West          7765088\n",
       "Midwest       7107586\n",
       "Northeast     5356272\n",
       "Name: region, dtype: int64"
      ]
     },
     "execution_count": 7,
     "metadata": {},
     "output_type": "execute_result"
    }
   ],
   "source": [
    "ords_prods_customers['region'].value_counts(dropna=False)"
   ]
  },
  {
   "cell_type": "code",
   "execution_count": 8,
   "id": "484052fa",
   "metadata": {
    "scrolled": true
   },
   "outputs": [
    {
     "data": {
      "text/html": [
       "<div>\n",
       "<style scoped>\n",
       "    .dataframe tbody tr th:only-of-type {\n",
       "        vertical-align: middle;\n",
       "    }\n",
       "\n",
       "    .dataframe tbody tr th {\n",
       "        vertical-align: top;\n",
       "    }\n",
       "\n",
       "    .dataframe thead th {\n",
       "        text-align: right;\n",
       "    }\n",
       "</style>\n",
       "<table border=\"1\" class=\"dataframe\">\n",
       "  <thead>\n",
       "    <tr style=\"text-align: right;\">\n",
       "      <th>spending_flag</th>\n",
       "      <th>High spender</th>\n",
       "      <th>Low spender</th>\n",
       "    </tr>\n",
       "    <tr>\n",
       "      <th>region</th>\n",
       "      <th></th>\n",
       "      <th></th>\n",
       "    </tr>\n",
       "  </thead>\n",
       "  <tbody>\n",
       "    <tr>\n",
       "      <th>Midwest</th>\n",
       "      <td>148198</td>\n",
       "      <td>6959265</td>\n",
       "    </tr>\n",
       "    <tr>\n",
       "      <th>Northeast</th>\n",
       "      <td>102839</td>\n",
       "      <td>5253367</td>\n",
       "    </tr>\n",
       "    <tr>\n",
       "      <th>South</th>\n",
       "      <td>197038</td>\n",
       "      <td>9902707</td>\n",
       "    </tr>\n",
       "    <tr>\n",
       "      <th>West</th>\n",
       "      <td>149783</td>\n",
       "      <td>7615166</td>\n",
       "    </tr>\n",
       "  </tbody>\n",
       "</table>\n",
       "</div>"
      ],
      "text/plain": [
       "spending_flag  High spender  Low spender\n",
       "region                                  \n",
       "Midwest              148198      6959265\n",
       "Northeast            102839      5253367\n",
       "South                197038      9902707\n",
       "West                 149783      7615166"
      ]
     },
     "execution_count": 8,
     "metadata": {},
     "output_type": "execute_result"
    }
   ],
   "source": [
    "# Spending habits between the differet U.S. regions\n",
    "crosstab=pd.crosstab(ords_prods_customers['region'], ords_prods_customers['spending_flag'],  dropna=False)\n",
    "crosstab"
   ]
  },
  {
   "cell_type": "markdown",
   "id": "9625c186",
   "metadata": {},
   "source": [
    "The number of high and low spenders depends on the number of states per region. There are no major differences among regions. "
   ]
  },
  {
   "cell_type": "code",
   "execution_count": 9,
   "id": "47004644",
   "metadata": {},
   "outputs": [],
   "source": [
    "# Exporting Data\n",
    "ords_prods_customers.to_csv(os.path.join(path, '02 Data', 'Prepared Data', 'Orders_Products_Customers.csv'))"
   ]
  },
  {
   "cell_type": "code",
   "execution_count": null,
   "id": "cae1c07c",
   "metadata": {},
   "outputs": [],
   "source": []
  }
 ],
 "metadata": {
  "kernelspec": {
   "display_name": "Python 3 (ipykernel)",
   "language": "python",
   "name": "python3"
  },
  "language_info": {
   "codemirror_mode": {
    "name": "ipython",
    "version": 3
   },
   "file_extension": ".py",
   "mimetype": "text/x-python",
   "name": "python",
   "nbconvert_exporter": "python",
   "pygments_lexer": "ipython3",
   "version": "3.9.7"
  }
 },
 "nbformat": 4,
 "nbformat_minor": 5
}
