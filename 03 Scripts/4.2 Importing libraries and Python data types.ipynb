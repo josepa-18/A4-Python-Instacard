{
 "cells": [
  {
   "cell_type": "markdown",
   "id": "a40a924a",
   "metadata": {},
   "source": [
    "# 01. Importing libraries"
   ]
  },
  {
   "cell_type": "code",
   "execution_count": 2,
   "id": "88e3119f",
   "metadata": {},
   "outputs": [],
   "source": [
    "# Import libraries\n",
    "import pandas as pd\n",
    "import numpy as np\n",
    "import os"
   ]
  },
  {
   "cell_type": "markdown",
   "id": "1537d762",
   "metadata": {},
   "source": [
    "# 02. Working with Python data types"
   ]
  },
  {
   "cell_type": "code",
   "execution_count": 3,
   "id": "cf4fb3da",
   "metadata": {},
   "outputs": [],
   "source": [
    "x = 25"
   ]
  },
  {
   "cell_type": "code",
   "execution_count": 5,
   "id": "2f734adf",
   "metadata": {},
   "outputs": [
    {
     "data": {
      "text/plain": [
       "100"
      ]
     },
     "execution_count": 5,
     "metadata": {},
     "output_type": "execute_result"
    }
   ],
   "source": [
    "x*4"
   ]
  },
  {
   "cell_type": "code",
   "execution_count": 7,
   "id": "5597a210",
   "metadata": {},
   "outputs": [
    {
     "data": {
      "text/plain": [
       "100"
      ]
     },
     "execution_count": 7,
     "metadata": {},
     "output_type": "execute_result"
    }
   ],
   "source": [
    "125 - x"
   ]
  },
  {
   "cell_type": "code",
   "execution_count": 8,
   "id": "0bd0c7df",
   "metadata": {},
   "outputs": [],
   "source": [
    "y = 75"
   ]
  },
  {
   "cell_type": "code",
   "execution_count": 9,
   "id": "de2bec92",
   "metadata": {},
   "outputs": [
    {
     "data": {
      "text/plain": [
       "100"
      ]
     },
     "execution_count": 9,
     "metadata": {},
     "output_type": "execute_result"
    }
   ],
   "source": [
    "x + y"
   ]
  },
  {
   "cell_type": "code",
   "execution_count": 10,
   "id": "8c4041b1",
   "metadata": {},
   "outputs": [],
   "source": [
    "x = 8.76\n",
    "y = 2.51"
   ]
  },
  {
   "cell_type": "code",
   "execution_count": 11,
   "id": "58a71928",
   "metadata": {},
   "outputs": [
    {
     "data": {
      "text/plain": [
       "3.49003984063745"
      ]
     },
     "execution_count": 11,
     "metadata": {},
     "output_type": "execute_result"
    }
   ],
   "source": [
    "x/y"
   ]
  },
  {
   "cell_type": "code",
   "execution_count": 12,
   "id": "3421d418",
   "metadata": {},
   "outputs": [
    {
     "data": {
      "text/plain": [
       "'light'"
      ]
     },
     "execution_count": 12,
     "metadata": {},
     "output_type": "execute_result"
    }
   ],
   "source": [
    "'l'+'i'+'g'+'h'+'t'"
   ]
  },
  {
   "cell_type": "code",
   "execution_count": 14,
   "id": "01706d6d",
   "metadata": {},
   "outputs": [
    {
     "data": {
      "text/plain": [
       "'I need water'"
      ]
     },
     "execution_count": 14,
     "metadata": {},
     "output_type": "execute_result"
    }
   ],
   "source": [
    "'I'+' need'+' water'"
   ]
  },
  {
   "cell_type": "code",
   "execution_count": 17,
   "id": "84f8781f",
   "metadata": {},
   "outputs": [],
   "source": [
    "a = 'I'\n",
    "b = ' need'\n",
    "c = ' water'"
   ]
  },
  {
   "cell_type": "code",
   "execution_count": 18,
   "id": "239f69d4",
   "metadata": {},
   "outputs": [
    {
     "data": {
      "text/plain": [
       "'I need water'"
      ]
     },
     "execution_count": 18,
     "metadata": {},
     "output_type": "execute_result"
    }
   ],
   "source": [
    "a+b+c"
   ]
  },
  {
   "cell_type": "code",
   "execution_count": 19,
   "id": "255ddbcb",
   "metadata": {},
   "outputs": [
    {
     "data": {
      "text/plain": [
       "'It is late'"
      ]
     },
     "execution_count": 19,
     "metadata": {},
     "output_type": "execute_result"
    }
   ],
   "source": [
    "'It'+' is'+' late'"
   ]
  },
  {
   "cell_type": "code",
   "execution_count": 21,
   "id": "23ecb94f",
   "metadata": {},
   "outputs": [
    {
     "data": {
      "text/plain": [
       "'morning morning morning morning morning morning morning morning morning morning morning morning morning morning morning morning morning morning morning morning morning morning morning morning morning morning morning morning morning morning morning morning morning morning morning morning morning morning morning morning morning morning morning morning morning morning morning morning morning morning morning morning morning morning morning morning morning morning morning morning morning morning morning morning morning morning morning morning morning morning morning morning morning morning morning morning morning morning morning morning morning morning morning morning morning morning morning morning morning morning morning morning morning morning morning morning morning morning morning morning '"
      ]
     },
     "execution_count": 21,
     "metadata": {},
     "output_type": "execute_result"
    }
   ],
   "source": [
    "'morning '*100"
   ]
  },
  {
   "cell_type": "code",
   "execution_count": null,
   "id": "4fc3f0cf",
   "metadata": {},
   "outputs": [],
   "source": []
  }
 ],
 "metadata": {
  "kernelspec": {
   "display_name": "Python 3 (ipykernel)",
   "language": "python",
   "name": "python3"
  },
  "language_info": {
   "codemirror_mode": {
    "name": "ipython",
    "version": 3
   },
   "file_extension": ".py",
   "mimetype": "text/x-python",
   "name": "python",
   "nbconvert_exporter": "python",
   "pygments_lexer": "ipython3",
   "version": "3.9.7"
  }
 },
 "nbformat": 4,
 "nbformat_minor": 5
}
